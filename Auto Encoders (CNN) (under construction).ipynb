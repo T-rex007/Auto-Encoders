{
 "cells": [
  {
   "cell_type": "code",
   "execution_count": 1,
   "metadata": {},
   "outputs": [],
   "source": [
    "\n",
    "import tensorflow as tf \n",
    "import numpy as np\n",
    "import matplotlib.pyplot as plt\n",
    "from tensorflow.keras.datasets import mnist, cifar10\n",
    "import cv2 \n",
    "import os "
   ]
  },
  {
   "cell_type": "markdown",
   "metadata": {},
   "source": [
    "# Auto Encoders with Convolutional Neural Networks"
   ]
  },
  {
   "cell_type": "code",
   "execution_count": 2,
   "metadata": {},
   "outputs": [],
   "source": [
    "epochs = 50\n",
    "bs = 100\n",
    "lr = 0.001"
   ]
  },
  {
   "cell_type": "code",
   "execution_count": 3,
   "metadata": {},
   "outputs": [],
   "source": [
    "### Loading Data\n",
    "(x_train, ytrain), (x_test, ytest) = cifar10.load_data()\n",
    "### Normalize Data\n",
    "x_train = x_train.astype('float32') / 255.\n",
    "x_test = x_test.astype('float32') / 255."
   ]
  },
  {
   "cell_type": "code",
   "execution_count": 9,
   "metadata": {},
   "outputs": [],
   "source": [
    "from tensorflow.keras.layers import Conv2D, MaxPooling2D, BatchNormalization, UpSampling2D\n",
    "from tensorflow.keras import Input\n",
    "from tensorflow.keras import Model\n",
    "### Encoder\n",
    "inputs = Input((32,32, 3))\n",
    "x = Conv2D(filters = 256, kernel_size = (3,3),activation = 'relu', padding = 'same')(inputs)\n",
    "x = MaxPooling2D(pool_size = (2,2))(x)\n",
    "x = Conv2D(filters = 128, kernel_size = (3,3),activation = 'relu', padding = 'same')(x)\n",
    "x = MaxPooling2D(pool_size = (2,2))(x)\n",
    "x = Conv2D(filters = 128, kernel_size = (3,3),activation = 'relu', padding = 'same')(x)\n",
    "x = MaxPooling2D(pool_size = (2,2))(x)\n",
    "\n",
    "### Encoding\n",
    "encoded = MaxPooling2D(pool_size = (2,2))(x)\n",
    "\n",
    "### Decoder\n",
    "x = Conv2D(filters = 128, kernel_size = (3,3),activation = 'relu', padding = 'same')(x)\n",
    "x = UpSampling2D((2,2))(x)\n",
    "x = Conv2D(filters = 128, kernel_size = (3,3),activation = 'relu', padding = 'same')(x)\n",
    "x = UpSampling2D((2,2))(x)\n",
    "x = Conv2D(filters = 256, kernel_size = (3,3),activation = 'relu', padding = 'same')(x)\n",
    "x = UpSampling2D((2,2))(x)\n",
    "decoded = Conv2D(3, kernel_size = (3,3),activation = 'relu', padding = 'same')(x)\n",
    "### Model \n",
    "autoencoder = Model(inputs = inputs, outputs = decoded)\n",
    "code = Model(inputs=inputs, outputs=encoded)"
   ]
  },
  {
   "cell_type": "code",
   "execution_count": 10,
   "metadata": {},
   "outputs": [
    {
     "name": "stdout",
     "output_type": "stream",
     "text": [
      "The shape of the input image:  (None, 32, 32, 3)\n",
      "The shape of the encoded Vector is:  (None, 2, 2, 128)\n",
      "The shape of generated image is:  (None, 32, 32, 3)\n"
     ]
    }
   ],
   "source": [
    "print(\"The shape of the input image: \", inputs.shape)\n",
    "print(\"The shape of the encoded Vector is: \", encoded.shape)\n",
    "print(\"The shape of generated image is: \", decoded.shape)"
   ]
  },
  {
   "cell_type": "code",
   "execution_count": 11,
   "metadata": {},
   "outputs": [
    {
     "name": "stdout",
     "output_type": "stream",
     "text": [
      "Train on 50000 samples, validate on 10000 samples\n",
      "Epoch 1/50\n",
      "50000/50000 [==============================] - 39s 774us/sample - loss: 0.6330 - val_loss: 0.5892\n",
      "Epoch 2/50\n",
      "50000/50000 [==============================] - 39s 781us/sample - loss: 0.5926 - val_loss: 0.5912\n",
      "Epoch 3/50\n",
      "50000/50000 [==============================] - 40s 806us/sample - loss: 0.5857 - val_loss: 0.5841\n",
      "Epoch 4/50\n",
      "50000/50000 [==============================] - 43s 859us/sample - loss: 0.5880 - val_loss: 0.5871\n",
      "Epoch 5/50\n",
      "50000/50000 [==============================] - 53s 1ms/sample - loss: 0.5891 - val_loss: 0.5816\n",
      "Epoch 6/50\n",
      "50000/50000 [==============================] - 61s 1ms/sample - loss: 0.5806 - val_loss: 0.5823\n",
      "Epoch 7/50\n",
      "50000/50000 [==============================] - 81s 2ms/sample - loss: 0.5771 - val_loss: 0.5766\n",
      "Epoch 8/50\n",
      "50000/50000 [==============================] - 88s 2ms/sample - loss: 0.5784 - val_loss: 0.5749\n",
      "Epoch 9/50\n",
      "50000/50000 [==============================] - 95s 2ms/sample - loss: 0.5781 - val_loss: 0.5745\n",
      "Epoch 10/50\n",
      "50000/50000 [==============================] - 119s 2ms/sample - loss: 0.5856 - val_loss: 0.5795\n",
      "Epoch 11/50\n",
      "50000/50000 [==============================] - 130s 3ms/sample - loss: 0.5774 - val_loss: 0.5748\n",
      "Epoch 12/50\n",
      "50000/50000 [==============================] - 122s 2ms/sample - loss: 0.5778 - val_loss: 0.5802\n",
      "Epoch 13/50\n",
      "50000/50000 [==============================] - 90s 2ms/sample - loss: 0.5772 - val_loss: 0.5743\n",
      "Epoch 14/50\n",
      "50000/50000 [==============================] - 134s 3ms/sample - loss: 0.5779 - val_loss: 0.5830\n",
      "Epoch 15/50\n",
      "50000/50000 [==============================] - 138s 3ms/sample - loss: 0.5795 - val_loss: 0.5748\n",
      "Epoch 16/50\n",
      "50000/50000 [==============================] - 154s 3ms/sample - loss: 0.5789 - val_loss: 0.5747\n",
      "Epoch 17/50\n",
      "50000/50000 [==============================] - 156s 3ms/sample - loss: 0.5743 - val_loss: 0.5731\n",
      "Epoch 18/50\n",
      "50000/50000 [==============================] - 143s 3ms/sample - loss: 0.5717 - val_loss: 0.5714\n",
      "Epoch 19/50\n",
      "50000/50000 [==============================] - 159s 3ms/sample - loss: 0.5730 - val_loss: 0.5743\n",
      "Epoch 20/50\n",
      "50000/50000 [==============================] - 154s 3ms/sample - loss: 0.5770 - val_loss: 0.5759\n",
      "Epoch 21/50\n",
      "50000/50000 [==============================] - 219s 4ms/sample - loss: 0.5758 - val_loss: 0.5731\n",
      "Epoch 22/50\n",
      "50000/50000 [==============================] - 228s 5ms/sample - loss: 0.5737 - val_loss: 0.5713\n",
      "Epoch 23/50\n",
      "50000/50000 [==============================] - 241s 5ms/sample - loss: 0.5705 - val_loss: 0.5699\n",
      "Epoch 24/50\n",
      "50000/50000 [==============================] - 181s 4ms/sample - loss: 0.5698 - val_loss: 0.5756\n",
      "Epoch 25/50\n",
      "50000/50000 [==============================] - 79s 2ms/sample - loss: 0.5713 - val_loss: 0.5784\n",
      "Epoch 26/50\n",
      "50000/50000 [==============================] - 77s 2ms/sample - loss: 0.5695 - val_loss: 0.5781\n",
      "Epoch 27/50\n",
      "50000/50000 [==============================] - 77s 2ms/sample - loss: 0.5697 - val_loss: 0.5724\n",
      "Epoch 28/50\n",
      "50000/50000 [==============================] - 73s 1ms/sample - loss: 0.5728 - val_loss: 0.5716\n",
      "Epoch 29/50\n",
      "50000/50000 [==============================] - 77s 2ms/sample - loss: 0.5682 - val_loss: 0.5677\n",
      "Epoch 30/50\n",
      "50000/50000 [==============================] - 79s 2ms/sample - loss: 0.5672 - val_loss: 0.5675\n",
      "Epoch 31/50\n",
      "50000/50000 [==============================] - 80s 2ms/sample - loss: 0.5667 - val_loss: 0.5667\n",
      "Epoch 32/50\n",
      "50000/50000 [==============================] - 72s 1ms/sample - loss: 0.5671 - val_loss: 0.5663\n",
      "Epoch 33/50\n",
      "50000/50000 [==============================] - 73s 1ms/sample - loss: 0.5706 - val_loss: 0.5742\n",
      "Epoch 34/50\n",
      "50000/50000 [==============================] - 72s 1ms/sample - loss: 0.5704 - val_loss: 0.5682\n",
      "Epoch 35/50\n",
      "50000/50000 [==============================] - 74s 1ms/sample - loss: 0.5668 - val_loss: 0.5667\n",
      "Epoch 36/50\n",
      "50000/50000 [==============================] - 73s 1ms/sample - loss: 0.5704 - val_loss: 0.5721\n",
      "Epoch 37/50\n",
      "50000/50000 [==============================] - 75s 2ms/sample - loss: 0.5702 - val_loss: 0.5713\n",
      "Epoch 38/50\n",
      "50000/50000 [==============================] - 85s 2ms/sample - loss: 0.5675 - val_loss: 0.5668\n",
      "Epoch 39/50\n",
      "50000/50000 [==============================] - 75s 1ms/sample - loss: 0.5668 - val_loss: 0.5673\n",
      "Epoch 40/50\n",
      "50000/50000 [==============================] - 76s 2ms/sample - loss: 0.5657 - val_loss: 0.5654\n",
      "Epoch 41/50\n",
      "50000/50000 [==============================] - 79s 2ms/sample - loss: 0.5665 - val_loss: 0.5657\n",
      "Epoch 42/50\n",
      "50000/50000 [==============================] - 90s 2ms/sample - loss: 0.5661 - val_loss: 0.5701\n",
      "Epoch 43/50\n",
      "50000/50000 [==============================] - 80s 2ms/sample - loss: 0.5671 - val_loss: 0.5659\n",
      "Epoch 44/50\n",
      "50000/50000 [==============================] - 77s 2ms/sample - loss: 0.5658 - val_loss: 0.5657\n",
      "Epoch 45/50\n",
      "50000/50000 [==============================] - 77s 2ms/sample - loss: 0.5661 - val_loss: 0.5679\n",
      "Epoch 46/50\n",
      "50000/50000 [==============================] - 77s 2ms/sample - loss: 0.5647 - val_loss: 0.5648\n",
      "Epoch 47/50\n",
      "50000/50000 [==============================] - 86s 2ms/sample - loss: 0.5667 - val_loss: 0.5678\n",
      "Epoch 48/50\n",
      "50000/50000 [==============================] - 79s 2ms/sample - loss: 0.5648 - val_loss: 0.5733\n",
      "Epoch 49/50\n",
      "50000/50000 [==============================] - 79s 2ms/sample - loss: 0.5649 - val_loss: 0.5646\n",
      "Epoch 50/50\n",
      "50000/50000 [==============================] - 75s 2ms/sample - loss: 0.5642 - val_loss: 0.5653\n"
     ]
    }
   ],
   "source": [
    "autoencoder.compile(optimizer = tf.keras.optimizers.Adam(lr), loss = \"binary_crossentropy\",)\n",
    "history = autoencoder.fit(x_train, x_train, epochs = epochs, batch_size = bs, \n",
    "                          validation_data=(x_test,x_test))"
   ]
  },
  {
   "cell_type": "code",
   "execution_count": 20,
   "metadata": {},
   "outputs": [
    {
     "data": {
      "image/png": "[encoded data removed]",
      "text/plain": [
       "<Figure size 432x288 with 1 Axes>"
      ]
     },
     "metadata": {
      "needs_background": "light"
     },
     "output_type": "display_data"
    }
   ],
   "source": [
    "plt.plot(np.arange(len(history.history['loss'])), history.history['loss'])\n",
    "plt.title(\"Loss Vs number of epochs\")\n",
    "plt.show()"
   ]
  },
  {
   "cell_type": "markdown",
   "metadata": {},
   "source": [
    "# Generated Images "
   ]
  },
  {
   "cell_type": "code",
   "execution_count": 12,
   "metadata": {},
   "outputs": [
    {
     "data": {
      "text/plain": [
       "<matplotlib.image.AxesImage at 0x228eea16348>"
      ]
     },
     "execution_count": 12,
     "metadata": {},
     "output_type": "execute_result"
    },
    {
     "data": {
      "image/png": "[encoded data removed]",
      "text/plain": [
       "<Figure size 432x288 with 1 Axes>"
      ]
     },
     "metadata": {
      "needs_background": "light"
     },
     "output_type": "display_data"
    }
   ],
   "source": [
    "gen = autoencoder.predict(np.expand_dims(x_train[0], axis = 0))\n",
    "plt.imshow(gen.reshape(32,32,3))"
   ]
  },
  {
   "cell_type": "markdown",
   "metadata": {},
   "source": [
    "# Original Image"
   ]
  },
  {
   "cell_type": "code",
   "execution_count": 13,
   "metadata": {},
   "outputs": [
    {
     "data": {
      "text/plain": [
       "<matplotlib.image.AxesImage at 0x228bf6f9088>"
      ]
     },
     "execution_count": 13,
     "metadata": {},
     "output_type": "execute_result"
    },
    {
     "data": {
      "image/png": "[encoded data removed]",
      "text/plain": [
       "<Figure size 432x288 with 1 Axes>"
      ]
     },
     "metadata": {
      "needs_background": "light"
     },
     "output_type": "display_data"
    }
   ],
   "source": [
    "plt.imshow(x_train[0])"
   ]
  },
  {
   "cell_type": "code",
   "execution_count": 10,
   "metadata": {},
   "outputs": [],
   "source": []
  },
  {
   "cell_type": "code",
   "execution_count": null,
   "metadata": {},
   "outputs": [],
   "source": []
  }
 ],
 "metadata": {
  "kernelspec": {
   "display_name": "deepdive",
   "language": "python",
   "name": "deepdive"
  },
  "language_info": {
   "codemirror_mode": {
    "name": "ipython",
    "version": 3
   },
   "file_extension": ".py",
   "mimetype": "text/x-python",
   "name": "python",
   "nbconvert_exporter": "python",
   "pygments_lexer": "ipython3",
   "version": "3.7.7"
  }
 },
 "nbformat": 4,
 "nbformat_minor": 2
}
